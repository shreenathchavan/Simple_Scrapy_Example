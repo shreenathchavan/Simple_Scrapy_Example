{
  "nbformat": 4,
  "nbformat_minor": 0,
  "metadata": {
    "colab": {
      "name": "Demo_Scrapy_jupyeterNotebook.ipynb",
      "provenance": []
    },
    "kernelspec": {
      "name": "python3",
      "display_name": "Python 3"
    }
  },
  "cells": [
    {
      "cell_type": "code",
      "metadata": {
        "id": "M8ExI5D7JyWg",
        "colab_type": "code",
        "colab": {
          "base_uri": "https://localhost:8080/",
          "height": 34
        },
        "outputId": "7f6ee57c-0022-4d32-b247-70e49ceeedc5"
      },
      "source": [
        "# Settings for notebook\n",
        "from IPython.core.interactiveshell import InteractiveShell\n",
        "InteractiveShell.ast_node_interactivity = \"all\"\n",
        "# Show Python version\n",
        "import platform\n",
        "platform.python_version()"
      ],
      "execution_count": 1,
      "outputs": [
        {
          "output_type": "execute_result",
          "data": {
            "text/plain": [
              "'3.6.8'"
            ]
          },
          "metadata": {
            "tags": []
          },
          "execution_count": 1
        }
      ]
    },
    {
      "cell_type": "code",
      "metadata": {
        "id": "pq_j32kDJ43H",
        "colab_type": "code",
        "colab": {
          "base_uri": "https://localhost:8080/",
          "height": 955
        },
        "outputId": "9ee328f6-dcfd-4920-c67d-bc75deb418d8"
      },
      "source": [
        "try:\n",
        "    import scrapy\n",
        "except:\n",
        "    !pip install scrapy\n",
        "    import scrapy\n",
        "from scrapy.crawler import CrawlerProcess"
      ],
      "execution_count": 2,
      "outputs": [
        {
          "output_type": "stream",
          "text": [
            "Collecting scrapy\n",
            "\u001b[?25l  Downloading https://files.pythonhosted.org/packages/dd/4f/640343805541c782ee49b14055a85da816cc118a8f48d01b56d2e5d12bf1/Scrapy-1.7.4-py2.py3-none-any.whl (234kB)\n",
            "\u001b[K     |████████████████████████████████| 235kB 4.7MB/s \n",
            "\u001b[?25hCollecting pyOpenSSL (from scrapy)\n",
            "\u001b[?25l  Downloading https://files.pythonhosted.org/packages/01/c8/ceb170d81bd3941cbeb9940fc6cc2ef2ca4288d0ca8929ea4db5905d904d/pyOpenSSL-19.0.0-py2.py3-none-any.whl (53kB)\n",
            "\u001b[K     |████████████████████████████████| 61kB 23.6MB/s \n",
            "\u001b[?25hCollecting service-identity (from scrapy)\n",
            "  Downloading https://files.pythonhosted.org/packages/e9/7c/2195b890023e098f9618d43ebc337d83c8b38d414326685339eb024db2f6/service_identity-18.1.0-py2.py3-none-any.whl\n",
            "Requirement already satisfied: six>=1.5.2 in /usr/local/lib/python3.6/dist-packages (from scrapy) (1.12.0)\n",
            "Collecting parsel>=1.5 (from scrapy)\n",
            "  Downloading https://files.pythonhosted.org/packages/86/c8/fc5a2f9376066905dfcca334da2a25842aedfda142c0424722e7c497798b/parsel-1.5.2-py2.py3-none-any.whl\n",
            "Collecting cssselect>=0.9 (from scrapy)\n",
            "  Downloading https://files.pythonhosted.org/packages/3b/d4/3b5c17f00cce85b9a1e6f91096e1cc8e8ede2e1be8e96b87ce1ed09e92c5/cssselect-1.1.0-py2.py3-none-any.whl\n",
            "Collecting PyDispatcher>=2.0.5 (from scrapy)\n",
            "  Downloading https://files.pythonhosted.org/packages/cd/37/39aca520918ce1935bea9c356bcbb7ed7e52ad4e31bff9b943dfc8e7115b/PyDispatcher-2.0.5.tar.gz\n",
            "Collecting queuelib (from scrapy)\n",
            "  Downloading https://files.pythonhosted.org/packages/4c/85/ae64e9145f39dd6d14f8af3fa809a270ef3729f3b90b3c0cf5aa242ab0d4/queuelib-1.5.0-py2.py3-none-any.whl\n",
            "Collecting Twisted>=13.1.0; python_version != \"3.4\" (from scrapy)\n",
            "\u001b[?25l  Downloading https://files.pythonhosted.org/packages/14/49/eb654da38b15285d1f594933eefff36ce03106356197dba28ee8f5721a79/Twisted-19.7.0-cp36-cp36m-manylinux1_x86_64.whl (3.1MB)\n",
            "\u001b[K     |████████████████████████████████| 3.1MB 45.0MB/s \n",
            "\u001b[?25hCollecting w3lib>=1.17.0 (from scrapy)\n",
            "  Downloading https://files.pythonhosted.org/packages/6a/45/1ba17c50a0bb16bd950c9c2b92ec60d40c8ebda9f3371ae4230c437120b6/w3lib-1.21.0-py2.py3-none-any.whl\n",
            "Requirement already satisfied: lxml; python_version != \"3.4\" in /usr/local/lib/python3.6/dist-packages (from scrapy) (4.2.6)\n",
            "Collecting cryptography>=2.3 (from pyOpenSSL->scrapy)\n",
            "\u001b[?25l  Downloading https://files.pythonhosted.org/packages/ca/9a/7cece52c46546e214e10811b36b2da52ce1ea7fa203203a629b8dfadad53/cryptography-2.8-cp34-abi3-manylinux2010_x86_64.whl (2.3MB)\n",
            "\u001b[K     |████████████████████████████████| 2.3MB 19.0MB/s \n",
            "\u001b[?25hRequirement already satisfied: pyasn1 in /usr/local/lib/python3.6/dist-packages (from service-identity->scrapy) (0.4.7)\n",
            "Requirement already satisfied: pyasn1-modules in /usr/local/lib/python3.6/dist-packages (from service-identity->scrapy) (0.2.7)\n",
            "Requirement already satisfied: attrs>=16.0.0 in /usr/local/lib/python3.6/dist-packages (from service-identity->scrapy) (19.3.0)\n",
            "Collecting hyperlink>=17.1.1 (from Twisted>=13.1.0; python_version != \"3.4\"->scrapy)\n",
            "  Downloading https://files.pythonhosted.org/packages/7f/91/e916ca10a2de1cb7101a9b24da546fb90ee14629e23160086cf3361c4fb8/hyperlink-19.0.0-py2.py3-none-any.whl\n",
            "Collecting Automat>=0.3.0 (from Twisted>=13.1.0; python_version != \"3.4\"->scrapy)\n",
            "  Downloading https://files.pythonhosted.org/packages/e5/11/756922e977bb296a79ccf38e8d45cafee446733157d59bcd751d3aee57f5/Automat-0.8.0-py2.py3-none-any.whl\n",
            "Collecting incremental>=16.10.1 (from Twisted>=13.1.0; python_version != \"3.4\"->scrapy)\n",
            "  Downloading https://files.pythonhosted.org/packages/f5/1d/c98a587dc06e107115cf4a58b49de20b19222c83d75335a192052af4c4b7/incremental-17.5.0-py2.py3-none-any.whl\n",
            "Collecting constantly>=15.1 (from Twisted>=13.1.0; python_version != \"3.4\"->scrapy)\n",
            "  Downloading https://files.pythonhosted.org/packages/b9/65/48c1909d0c0aeae6c10213340ce682db01b48ea900a7d9fce7a7910ff318/constantly-15.1.0-py2.py3-none-any.whl\n",
            "Collecting PyHamcrest>=1.9.0 (from Twisted>=13.1.0; python_version != \"3.4\"->scrapy)\n",
            "\u001b[?25l  Downloading https://files.pythonhosted.org/packages/9a/d5/d37fd731b7d0e91afcc84577edeccf4638b4f9b82f5ffe2f8b62e2ddc609/PyHamcrest-1.9.0-py2.py3-none-any.whl (52kB)\n",
            "\u001b[K     |████████████████████████████████| 61kB 21.1MB/s \n",
            "\u001b[?25hCollecting zope.interface>=4.4.2 (from Twisted>=13.1.0; python_version != \"3.4\"->scrapy)\n",
            "\u001b[?25l  Downloading https://files.pythonhosted.org/packages/19/17/1d198a6aaa9aa4590862fe3d3a2ed7dd808050cab4eebe8a2f2f813c1376/zope.interface-4.6.0-cp36-cp36m-manylinux1_x86_64.whl (167kB)\n",
            "\u001b[K     |████████████████████████████████| 174kB 32.4MB/s \n",
            "\u001b[?25hRequirement already satisfied: cffi!=1.11.3,>=1.8 in /usr/local/lib/python3.6/dist-packages (from cryptography>=2.3->pyOpenSSL->scrapy) (1.13.0)\n",
            "Requirement already satisfied: idna>=2.5 in /usr/local/lib/python3.6/dist-packages (from hyperlink>=17.1.1->Twisted>=13.1.0; python_version != \"3.4\"->scrapy) (2.8)\n",
            "Requirement already satisfied: setuptools in /usr/local/lib/python3.6/dist-packages (from PyHamcrest>=1.9.0->Twisted>=13.1.0; python_version != \"3.4\"->scrapy) (41.4.0)\n",
            "Requirement already satisfied: pycparser in /usr/local/lib/python3.6/dist-packages (from cffi!=1.11.3,>=1.8->cryptography>=2.3->pyOpenSSL->scrapy) (2.19)\n",
            "Building wheels for collected packages: PyDispatcher\n",
            "  Building wheel for PyDispatcher (setup.py) ... \u001b[?25l\u001b[?25hdone\n",
            "  Created wheel for PyDispatcher: filename=PyDispatcher-2.0.5-cp36-none-any.whl size=11516 sha256=65804eab6e8e423eefb36476307f5c04b025fcee47adfe118ad1eda6b88a79a6\n",
            "  Stored in directory: /root/.cache/pip/wheels/88/99/96/cfef6665f9cb1522ee6757ae5955feedf2fe25f1737f91fa7f\n",
            "Successfully built PyDispatcher\n",
            "Installing collected packages: cryptography, pyOpenSSL, service-identity, cssselect, w3lib, parsel, PyDispatcher, queuelib, hyperlink, Automat, incremental, constantly, PyHamcrest, zope.interface, Twisted, scrapy\n",
            "Successfully installed Automat-0.8.0 PyDispatcher-2.0.5 PyHamcrest-1.9.0 Twisted-19.7.0 constantly-15.1.0 cryptography-2.8 cssselect-1.1.0 hyperlink-19.0.0 incremental-17.5.0 parsel-1.5.2 pyOpenSSL-19.0.0 queuelib-1.5.0 scrapy-1.7.4 service-identity-18.1.0 w3lib-1.21.0 zope.interface-4.6.0\n"
          ],
          "name": "stdout"
        }
      ]
    },
    {
      "cell_type": "markdown",
      "metadata": {
        "id": "d8QNodUVLPzg",
        "colab_type": "text"
      },
      "source": [
        "Setup a pipeline\n",
        "This class creates a simple pipeline that writes all found items to a JSON file, where each line contains one JSON element."
      ]
    },
    {
      "cell_type": "code",
      "metadata": {
        "id": "Pd8TrsA0J86l",
        "colab_type": "code",
        "colab": {}
      },
      "source": [
        "import json\n",
        "\n",
        "class JsonWriterPipeline(object):\n",
        "\n",
        "    def open_spider(self, spider):\n",
        "        self.file = open('quoteresult.jl', 'w')\n",
        "\n",
        "    def close_spider(self, spider):\n",
        "        self.file.close()\n",
        "\n",
        "    def process_item(self, item, spider):\n",
        "        line = json.dumps(dict(item)) + \"\\n\"\n",
        "        self.file.write(line)\n",
        "        return item"
      ],
      "execution_count": 0,
      "outputs": []
    },
    {
      "cell_type": "markdown",
      "metadata": {
        "id": "1tRB2uOWLS5M",
        "colab_type": "text"
      },
      "source": [
        "Define the spider\n",
        "The QuotesSpider class defines from which URLs to start crawling and which values to retrieve. I set the logging level of the crawler to warning, otherwise the notebook is overloaded with DEBUG messages about the retrieved data."
      ]
    },
    {
      "cell_type": "code",
      "metadata": {
        "id": "N2XKjHrwKEOU",
        "colab_type": "code",
        "colab": {}
      },
      "source": [
        "import logging\n",
        "\n",
        "class QuotesSpider(scrapy.Spider):\n",
        "    name = \"quotes\"\n",
        "    start_urls = [\n",
        "        'http://quotes.toscrape.com/page/1/',\n",
        "        'http://quotes.toscrape.com/page/2/',\n",
        "    ]\n",
        "    custom_settings = {\n",
        "        'LOG_LEVEL': logging.WARNING,\n",
        "        'ITEM_PIPELINES': {'__main__.JsonWriterPipeline': 1}, # Used for pipeline 1\n",
        "        'FEED_FORMAT':'json',                                 # Used for pipeline 2\n",
        "        'FEED_URI': 'quoteresult.json'                        # Used for pipeline 2\n",
        "    }\n",
        "    \n",
        "    def parse(self, response):\n",
        "        for quote in response.css('div.quote'):\n",
        "            yield {\n",
        "                'text': quote.css('span.text::text').extract_first(),\n",
        "                'author': quote.css('span small::text').extract_first(),\n",
        "                'tags': quote.css('div.tags a.tag::text').extract(),\n",
        "            }"
      ],
      "execution_count": 0,
      "outputs": []
    },
    {
      "cell_type": "markdown",
      "metadata": {
        "id": "B-cPNdCkLWxe",
        "colab_type": "text"
      },
      "source": [
        "Start the crawler"
      ]
    },
    {
      "cell_type": "code",
      "metadata": {
        "id": "uMZNfL69KHTp",
        "colab_type": "code",
        "colab": {
          "base_uri": "https://localhost:8080/",
          "height": 105
        },
        "outputId": "cff6a87d-f319-4fe3-f5c8-645708310c9f"
      },
      "source": [
        "process = CrawlerProcess({\n",
        "    'USER_AGENT': 'Mozilla/4.0 (compatible; MSIE 7.0; Windows NT 5.1)'\n",
        "})\n",
        "\n",
        "process.crawl(QuotesSpider)\n",
        "process.start()"
      ],
      "execution_count": 5,
      "outputs": [
        {
          "output_type": "stream",
          "text": [
            "2019-10-23 05:58:04 [scrapy.utils.log] INFO: Scrapy 1.7.4 started (bot: scrapybot)\n",
            "2019-10-23 05:58:04 [scrapy.utils.log] INFO: Versions: lxml 4.2.6.0, libxml2 2.9.8, cssselect 1.1.0, parsel 1.5.2, w3lib 1.21.0, Twisted 19.7.0, Python 3.6.8 (default, Oct  7 2019, 12:59:55) - [GCC 8.3.0], pyOpenSSL 19.0.0 (OpenSSL 1.1.1d  10 Sep 2019), cryptography 2.8, Platform Linux-4.14.137+-x86_64-with-Ubuntu-18.04-bionic\n",
            "2019-10-23 05:58:04 [scrapy.crawler] INFO: Overridden settings: {'FEED_FORMAT': 'json', 'FEED_URI': 'quoteresult.json', 'LOG_LEVEL': 30, 'USER_AGENT': 'Mozilla/4.0 (compatible; MSIE 7.0; Windows NT 5.1)'}\n"
          ],
          "name": "stderr"
        },
        {
          "output_type": "execute_result",
          "data": {
            "text/plain": [
              "<Deferred at 0x7f247f2d2b00>"
            ]
          },
          "metadata": {
            "tags": []
          },
          "execution_count": 5
        }
      ]
    },
    {
      "cell_type": "markdown",
      "metadata": {
        "id": "GlxtQaywLatR",
        "colab_type": "text"
      },
      "source": [
        "Check the files"
      ]
    },
    {
      "cell_type": "code",
      "metadata": {
        "id": "onWWMWiGKLi0",
        "colab_type": "code",
        "colab": {
          "base_uri": "https://localhost:8080/",
          "height": 51
        },
        "outputId": "88418a2d-678d-4e66-bc8f-f2b5f752a78b"
      },
      "source": [
        "ll quoteresult.*"
      ],
      "execution_count": 6,
      "outputs": [
        {
          "output_type": "stream",
          "text": [
            "-rw-r--r-- 1 root 5551 Oct 23 05:58 quoteresult.jl\n",
            "-rw-r--r-- 1 root 5573 Oct 23 05:58 quoteresult.json\n"
          ],
          "name": "stdout"
        }
      ]
    },
    {
      "cell_type": "code",
      "metadata": {
        "id": "UznhHGkrLcKH",
        "colab_type": "code",
        "colab": {
          "base_uri": "https://localhost:8080/",
          "height": 71
        },
        "outputId": "9fbd38cd-f71f-49bc-d321-cbc664a095ee"
      },
      "source": [
        "!tail -n 2 quoteresult.jl"
      ],
      "execution_count": 7,
      "outputs": [
        {
          "output_type": "stream",
          "text": [
            "{\"text\": \"\\u201cGood friends, good books, and a sleepy conscience: this is the ideal life.\\u201d\", \"author\": \"Mark Twain\", \"tags\": [\"books\", \"contentment\", \"friends\", \"friendship\", \"life\"]}\n",
            "{\"text\": \"\\u201cLife is what happens to us while we are making other plans.\\u201d\", \"author\": \"Allen Saunders\", \"tags\": [\"fate\", \"life\", \"misattributed-john-lennon\", \"planning\", \"plans\"]}\n"
          ],
          "name": "stdout"
        }
      ]
    },
    {
      "cell_type": "markdown",
      "metadata": {
        "id": "J072SiT_Lf2h",
        "colab_type": "text"
      },
      "source": [
        "\n",
        "\n",
        "```\n",
        "# This is formatted as code\n",
        "```\n",
        "\n"
      ]
    },
    {
      "cell_type": "code",
      "metadata": {
        "id": "DaMC70dCKN-n",
        "colab_type": "code",
        "colab": {
          "base_uri": "https://localhost:8080/",
          "height": 71
        },
        "outputId": "1bcd4412-2a38-46f9-9aee-ba50c1f4ab61"
      },
      "source": [
        "!tail -n 2 quoteresult.json"
      ],
      "execution_count": 8,
      "outputs": [
        {
          "output_type": "stream",
          "text": [
            "{\"text\": \"\\u201cLife is what happens to us while we are making other plans.\\u201d\", \"author\": \"Allen Saunders\", \"tags\": [\"fate\", \"life\", \"misattributed-john-lennon\", \"planning\", \"plans\"]}\n",
            "]"
          ],
          "name": "stdout"
        }
      ]
    },
    {
      "cell_type": "code",
      "metadata": {
        "id": "q1RiD3bDLorp",
        "colab_type": "code",
        "colab": {
          "base_uri": "https://localhost:8080/",
          "height": 669
        },
        "outputId": "f8131341-b3ad-438e-869a-872ce82306c1"
      },
      "source": [
        "import pandas as pd\n",
        "dfjson = pd.read_json('quoteresult.json')\n",
        "dfjson"
      ],
      "execution_count": 9,
      "outputs": [
        {
          "output_type": "execute_result",
          "data": {
            "text/html": [
              "<div>\n",
              "<style scoped>\n",
              "    .dataframe tbody tr th:only-of-type {\n",
              "        vertical-align: middle;\n",
              "    }\n",
              "\n",
              "    .dataframe tbody tr th {\n",
              "        vertical-align: top;\n",
              "    }\n",
              "\n",
              "    .dataframe thead th {\n",
              "        text-align: right;\n",
              "    }\n",
              "</style>\n",
              "<table border=\"1\" class=\"dataframe\">\n",
              "  <thead>\n",
              "    <tr style=\"text-align: right;\">\n",
              "      <th></th>\n",
              "      <th>author</th>\n",
              "      <th>tags</th>\n",
              "      <th>text</th>\n",
              "    </tr>\n",
              "  </thead>\n",
              "  <tbody>\n",
              "    <tr>\n",
              "      <th>0</th>\n",
              "      <td>Albert Einstein</td>\n",
              "      <td>[change, deep-thoughts, thinking, world]</td>\n",
              "      <td>“The world as we have created it is a process ...</td>\n",
              "    </tr>\n",
              "    <tr>\n",
              "      <th>1</th>\n",
              "      <td>J.K. Rowling</td>\n",
              "      <td>[abilities, choices]</td>\n",
              "      <td>“It is our choices, Harry, that show what we t...</td>\n",
              "    </tr>\n",
              "    <tr>\n",
              "      <th>2</th>\n",
              "      <td>Albert Einstein</td>\n",
              "      <td>[inspirational, life, live, miracle, miracles]</td>\n",
              "      <td>“There are only two ways to live your life. On...</td>\n",
              "    </tr>\n",
              "    <tr>\n",
              "      <th>3</th>\n",
              "      <td>Jane Austen</td>\n",
              "      <td>[aliteracy, books, classic, humor]</td>\n",
              "      <td>“The person, be it gentleman or lady, who has ...</td>\n",
              "    </tr>\n",
              "    <tr>\n",
              "      <th>4</th>\n",
              "      <td>Marilyn Monroe</td>\n",
              "      <td>[be-yourself, inspirational]</td>\n",
              "      <td>“Imperfection is beauty, madness is genius and...</td>\n",
              "    </tr>\n",
              "    <tr>\n",
              "      <th>5</th>\n",
              "      <td>Albert Einstein</td>\n",
              "      <td>[adulthood, success, value]</td>\n",
              "      <td>“Try not to become a man of success. Rather be...</td>\n",
              "    </tr>\n",
              "    <tr>\n",
              "      <th>6</th>\n",
              "      <td>André Gide</td>\n",
              "      <td>[life, love]</td>\n",
              "      <td>“It is better to be hated for what you are tha...</td>\n",
              "    </tr>\n",
              "    <tr>\n",
              "      <th>7</th>\n",
              "      <td>Thomas A. Edison</td>\n",
              "      <td>[edison, failure, inspirational, paraphrased]</td>\n",
              "      <td>“I have not failed. I've just found 10,000 way...</td>\n",
              "    </tr>\n",
              "    <tr>\n",
              "      <th>8</th>\n",
              "      <td>Eleanor Roosevelt</td>\n",
              "      <td>[misattributed-eleanor-roosevelt]</td>\n",
              "      <td>“A woman is like a tea bag; you never know how...</td>\n",
              "    </tr>\n",
              "    <tr>\n",
              "      <th>9</th>\n",
              "      <td>Steve Martin</td>\n",
              "      <td>[humor, obvious, simile]</td>\n",
              "      <td>“A day without sunshine is like, you know, nig...</td>\n",
              "    </tr>\n",
              "    <tr>\n",
              "      <th>10</th>\n",
              "      <td>Marilyn Monroe</td>\n",
              "      <td>[friends, heartbreak, inspirational, life, lov...</td>\n",
              "      <td>“This life is what you make it. No matter what...</td>\n",
              "    </tr>\n",
              "    <tr>\n",
              "      <th>11</th>\n",
              "      <td>J.K. Rowling</td>\n",
              "      <td>[courage, friends]</td>\n",
              "      <td>“It takes a great deal of bravery to stand up ...</td>\n",
              "    </tr>\n",
              "    <tr>\n",
              "      <th>12</th>\n",
              "      <td>Albert Einstein</td>\n",
              "      <td>[simplicity, understand]</td>\n",
              "      <td>“If you can't explain it to a six year old, yo...</td>\n",
              "    </tr>\n",
              "    <tr>\n",
              "      <th>13</th>\n",
              "      <td>Bob Marley</td>\n",
              "      <td>[love]</td>\n",
              "      <td>“You may not be her first, her last, or her on...</td>\n",
              "    </tr>\n",
              "    <tr>\n",
              "      <th>14</th>\n",
              "      <td>Dr. Seuss</td>\n",
              "      <td>[fantasy]</td>\n",
              "      <td>“I like nonsense, it wakes up the brain cells....</td>\n",
              "    </tr>\n",
              "    <tr>\n",
              "      <th>15</th>\n",
              "      <td>Douglas Adams</td>\n",
              "      <td>[life, navigation]</td>\n",
              "      <td>“I may not have gone where I intended to go, b...</td>\n",
              "    </tr>\n",
              "    <tr>\n",
              "      <th>16</th>\n",
              "      <td>Elie Wiesel</td>\n",
              "      <td>[activism, apathy, hate, indifference, inspira...</td>\n",
              "      <td>“The opposite of love is not hate, it's indiff...</td>\n",
              "    </tr>\n",
              "    <tr>\n",
              "      <th>17</th>\n",
              "      <td>Friedrich Nietzsche</td>\n",
              "      <td>[friendship, lack-of-friendship, lack-of-love,...</td>\n",
              "      <td>“It is not a lack of love, but a lack of frien...</td>\n",
              "    </tr>\n",
              "    <tr>\n",
              "      <th>18</th>\n",
              "      <td>Mark Twain</td>\n",
              "      <td>[books, contentment, friends, friendship, life]</td>\n",
              "      <td>“Good friends, good books, and a sleepy consci...</td>\n",
              "    </tr>\n",
              "    <tr>\n",
              "      <th>19</th>\n",
              "      <td>Allen Saunders</td>\n",
              "      <td>[fate, life, misattributed-john-lennon, planni...</td>\n",
              "      <td>“Life is what happens to us while we are makin...</td>\n",
              "    </tr>\n",
              "  </tbody>\n",
              "</table>\n",
              "</div>"
            ],
            "text/plain": [
              "                 author  ...                                               text\n",
              "0       Albert Einstein  ...  “The world as we have created it is a process ...\n",
              "1          J.K. Rowling  ...  “It is our choices, Harry, that show what we t...\n",
              "2       Albert Einstein  ...  “There are only two ways to live your life. On...\n",
              "3           Jane Austen  ...  “The person, be it gentleman or lady, who has ...\n",
              "4        Marilyn Monroe  ...  “Imperfection is beauty, madness is genius and...\n",
              "5       Albert Einstein  ...  “Try not to become a man of success. Rather be...\n",
              "6            André Gide  ...  “It is better to be hated for what you are tha...\n",
              "7      Thomas A. Edison  ...  “I have not failed. I've just found 10,000 way...\n",
              "8     Eleanor Roosevelt  ...  “A woman is like a tea bag; you never know how...\n",
              "9          Steve Martin  ...  “A day without sunshine is like, you know, nig...\n",
              "10       Marilyn Monroe  ...  “This life is what you make it. No matter what...\n",
              "11         J.K. Rowling  ...  “It takes a great deal of bravery to stand up ...\n",
              "12      Albert Einstein  ...  “If you can't explain it to a six year old, yo...\n",
              "13           Bob Marley  ...  “You may not be her first, her last, or her on...\n",
              "14            Dr. Seuss  ...  “I like nonsense, it wakes up the brain cells....\n",
              "15        Douglas Adams  ...  “I may not have gone where I intended to go, b...\n",
              "16          Elie Wiesel  ...  “The opposite of love is not hate, it's indiff...\n",
              "17  Friedrich Nietzsche  ...  “It is not a lack of love, but a lack of frien...\n",
              "18           Mark Twain  ...  “Good friends, good books, and a sleepy consci...\n",
              "19       Allen Saunders  ...  “Life is what happens to us while we are makin...\n",
              "\n",
              "[20 rows x 3 columns]"
            ]
          },
          "metadata": {
            "tags": []
          },
          "execution_count": 9
        }
      ]
    },
    {
      "cell_type": "code",
      "metadata": {
        "id": "78MUuu2RM0nu",
        "colab_type": "code",
        "colab": {
          "base_uri": "https://localhost:8080/",
          "height": 139
        },
        "outputId": "5dd6b20b-ffd8-411f-c0f7-14d13b738f36"
      },
      "source": [
        "!scrapy startproject amazon_reviews_scraping"
      ],
      "execution_count": 10,
      "outputs": [
        {
          "output_type": "stream",
          "text": [
            "New Scrapy project 'amazon_reviews_scraping', using template directory '/usr/local/lib/python3.6/dist-packages/scrapy/templates/project', created in:\n",
            "    /content/amazon_reviews_scraping\n",
            "\n",
            "You can start your first spider with:\n",
            "    cd amazon_reviews_scraping\n",
            "    scrapy genspider example example.com\n"
          ],
          "name": "stdout"
        }
      ]
    },
    {
      "cell_type": "code",
      "metadata": {
        "id": "ya1V35tKM1q9",
        "colab_type": "code",
        "colab": {}
      },
      "source": [
        ""
      ],
      "execution_count": 0,
      "outputs": []
    }
  ]
}